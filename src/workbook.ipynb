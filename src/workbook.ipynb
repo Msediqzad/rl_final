{
 "cells": [
  {
   "cell_type": "code",
   "execution_count": 49,
   "metadata": {},
   "outputs": [],
   "source": [
    "from architectural_principles import ArchitecturalConstraints, State\n",
    "from train import ExperimentManager\n",
    "from environment import ArchitecturalEnvironment\n",
    "import numpy as np\n",
    "import copy\n",
    "def_rooms = ArchitecturalConstraints.default_rooms()\n",
    "config = {\n",
    "    'env': {\n",
    "        'grid_size': (10, 10),\n",
    "        'max_steps': 500,\n",
    "        'required_rooms': {room: def_rooms[room] for room in list(def_rooms.keys())[:1]}\n",
    "    },\n",
    "    'algorithms': {\n",
    "        'value_iteration': {\n",
    "            'gamma': .95,\n",
    "            'theta': 0.001\n",
    "        }\n",
    "    }\n",
    "}\n",
    "\n"
   ]
  },
  {
   "cell_type": "code",
   "execution_count": null,
   "metadata": {},
   "outputs": [],
   "source": [
    "env = ArchitecturalEnvironment((10, 10), 50, def_rooms)\n",
    "init_state = env.reset()\n",
    "state_value_map = {}\n",
    "sampled_states = [init_state]\n",
    "actions = ExperimentManager(config)._get_action_space()\n",
    "num_iterations = 9\n",
    "max_states = 1000\n",
    "gamma = 0.8\n",
    "\n",
    "def state_to_key(state) -> str:\n",
    "    \"\"\"Convert state to a hashable key.\"\"\"\n",
    "    return str(state.layout) + str(state.placed_rooms) + str(state.current_step)\n",
    "\n",
    "def sample_initial_states():\n",
    "    \"\"\"Generate initial random states.\"\"\"\n",
    "    states = []\n",
    "    env.reset()\n",
    "    for room_name in env.required_rooms.keys():\n",
    "        action = {\n",
    "            \"type\": \"add_room\",\n",
    "            \"params\": {\n",
    "                \"name\": room_name,\n",
    "                \"room_type\": env.required_rooms[room_name].room_type,\n",
    "                \"position\": (\n",
    "                    np.random.randint(0, env.grid_size[0] - 1),\n",
    "                    np.random.randint(0, env.grid_size[1] - 1)\n",
    "                ),\n",
    "                \"size\": env.required_rooms[room_name].min_size,\n",
    "            },\n",
    "        }\n",
    "        env.step(action)\n",
    "        states.append(env._get_state())\n",
    "    return states\n",
    "\n",
    "\n",
    "def expand_states(sampled_states: list[State], actions: list[dict]):\n",
    "    # Expand states using valid actions\n",
    "    expanded_states = []\n",
    "    for state in sampled_states:\n",
    "        env.set_state(state)\n",
    "        for action in actions:\n",
    "            next_state, reward, _, _ = env.step(action)\n",
    "            # Add new state if it wasn't visited before\n",
    "            key = state_to_key(next_state)\n",
    "            if key not in state_value_map and len(state_value_map) < max_states:\n",
    "                state_value_map[key] = (action, 0.0)\n",
    "                expanded_states.append(next_state)\n",
    "    return expanded_states\n",
    "\n",
    "# Sample initial states\n",
    "sampled_states = sample_initial_states()\n",
    "for state in sampled_states:\n",
    "    state_value_map[state_to_key(state)] = ('any', 0.0)\n",
    "\n",
    "for i in range(num_iterations):\n",
    "    new_state_value_map = copy.deepcopy(state_value_map)\n",
    "\n",
    "    expanded_states = expand_states(sampled_states, actions)\n",
    "\n",
    "    # Update value function\n",
    "    for state in sampled_states:\n",
    "        env.set_state(state)\n",
    "        max_next_value = 0\n",
    "        next_action = 'any'\n",
    "        for action in actions:\n",
    "            next_state, reward, _, _ = env.step(action)\n",
    "            key = state_to_key(next_state)\n",
    "            _, value = state_value_map.get(key, ('any', 0.0))\n",
    "            V_t = reward + gamma * value\n",
    "            max_next_value = max(max_next_value, V_t)\n",
    "            if max_next_value == V_t:\n",
    "                next_action = action\n",
    "\n",
    "        # Update the value of the current state\n",
    "        new_state_value_map[state_to_key(state)] = (next_action, max_next_value)\n",
    "\n",
    "    # Replace old value map with the new one\n",
    "    state_value_map = new_state_value_map\n",
    "\n",
    "    # Deduplicate states and merge expanded states\n",
    "    sampled_states.extend(expanded_states)\n",
    "    sampled_states = list({state_to_key(s): s for s in sampled_states}.values())\n",
    "    \n",
    "state_value_map"
   ]
  },
  {
   "cell_type": "code",
   "execution_count": 11,
   "metadata": {},
   "outputs": [],
   "source": [
    "import pandas as pd"
   ]
  },
  {
   "cell_type": "code",
   "execution_count": 82,
   "metadata": {},
   "outputs": [],
   "source": [
    "value_df = pd.DataFrame(state_value_map, index=['action', 'value']).T"
   ]
  },
  {
   "cell_type": "code",
   "execution_count": 91,
   "metadata": {},
   "outputs": [
    {
     "data": {
      "text/plain": [
       "array([False, False, False, False, False, False, False, False, False,\n",
       "       False, False, False, False, False, False, False, False, False,\n",
       "       False, False, False, False, False, False, False, False, False,\n",
       "       False, False, False, False, False, False, False, False, False,\n",
       "       False, False, False, False, False, False, False, False, False,\n",
       "       False, False, False, False, False, False, False, False, False,\n",
       "       False, False, False, False, False, False, False, False, False,\n",
       "       False, False, False, False, False, False, False, False, False,\n",
       "       False, False, False, False, False, False, False, False, False,\n",
       "       False, False, False, False, False, False, False, False, False,\n",
       "       False, False, False, False, False, False, False, False, False,\n",
       "       False, False, False, False, False, False, False, False, False,\n",
       "       False, False, False, False, False, False, False, False, False,\n",
       "       False, False, False, False, False, False, False, False, False,\n",
       "       False, False, False, False, False, False, False, False, False,\n",
       "       False, False, False, False, False, False, False, False, False,\n",
       "       False, False, False, False, False, False, False, False, False,\n",
       "       False, False, False, False, False, False, False, False, False,\n",
       "       False, False, False, False, False, False, False, False, False,\n",
       "       False, False, False, False, False, False, False, False, False,\n",
       "       False, False, False, False, False, False, False, False, False,\n",
       "       False, False, False, False, False, False, False, False, False,\n",
       "       False, False])"
      ]
     },
     "execution_count": 91,
     "metadata": {},
     "output_type": "execute_result"
    }
   ],
   "source": [
    "state_to_key(init_state) == value_df.index"
   ]
  },
  {
   "cell_type": "code",
   "execution_count": 92,
   "metadata": {},
   "outputs": [
    {
     "data": {
      "text/plain": [
       "\"[[0 0 0 0 0 0 0 0 0 0]\\n [0 0 0 0 0 0 0 0 0 0]\\n [0 0 0 0 0 0 1 1 1 1]\\n [0 0 0 0 0 0 1 1 1 1]\\n [0 0 0 0 0 0 1 1 1 1]\\n [0 0 0 0 0 0 1 1 1 1]\\n [0 0 0 0 0 0 0 0 0 0]\\n [0 0 0 0 0 0 0 0 0 0]\\n [0 0 0 0 0 0 0 0 0 0]\\n [0 0 0 0 0 0 0 0 0 0]]{'living': {'id': 1, 'type': <RoomType.LIVING: 'living'>, 'position': (2, 6), 'size': (4, 4)}, 'bedroom': {'id': 2, 'type': <RoomType.BEDROOM: 'bedroom'>, 'position': (6, 7), 'size': (3, 3)}, 'entry': {'id': 3, 'type': <RoomType.ENTRY: 'entry'>, 'position': (3, 2), 'size': (2, 2)}, 'corridor': {'id': 4, 'type': <RoomType.CORRIDOR: 'corridor'>, 'position': (2, 1), 'size': (1, 3)}}1\""
      ]
     },
     "execution_count": 92,
     "metadata": {},
     "output_type": "execute_result"
    }
   ],
   "source": [
    "value_df.index[0]"
   ]
  },
  {
   "cell_type": "code",
   "execution_count": 84,
   "metadata": {},
   "outputs": [
    {
     "data": {
      "text/plain": [
       "Index(['[[0 0 0 0 0 0 0 0 0 0]\\n [0 0 0 0 0 0 0 0 0 0]\\n [0 0 0 0 0 0 1 1 1 1]\\n [0 0 0 0 0 0 1 1 1 1]\\n [0 0 0 0 0 0 1 1 1 1]\\n [0 0 0 0 0 0 1 1 1 1]\\n [0 0 0 0 0 0 0 0 0 0]\\n [0 0 0 0 0 0 0 0 0 0]\\n [0 0 0 0 0 0 0 0 0 0]\\n [0 0 0 0 0 0 0 0 0 0]]{'living': {'id': 1, 'type': <RoomType.LIVING: 'living'>, 'position': (2, 6), 'size': (4, 4)}, 'bedroom': {'id': 2, 'type': <RoomType.BEDROOM: 'bedroom'>, 'position': (6, 7), 'size': (3, 3)}, 'entry': {'id': 3, 'type': <RoomType.ENTRY: 'entry'>, 'position': (3, 2), 'size': (2, 2)}, 'corridor': {'id': 4, 'type': <RoomType.CORRIDOR: 'corridor'>, 'position': (2, 1), 'size': (1, 3)}}1',\n",
       "       '[[0 0 0 0 0 0 0 0 0 0]\\n [0 0 0 0 0 0 0 0 0 0]\\n [0 0 0 0 0 0 1 1 1 1]\\n [0 0 0 0 0 0 1 1 1 1]\\n [0 0 0 0 0 0 1 1 1 1]\\n [0 0 0 0 0 0 1 1 1 1]\\n [0 0 0 0 0 0 0 2 2 2]\\n [0 0 0 0 0 0 0 2 2 2]\\n [0 0 0 0 0 0 0 2 2 2]\\n [0 0 0 0 0 0 0 0 0 0]]{'living': {'id': 1, 'type': <RoomType.LIVING: 'living'>, 'position': (2, 6), 'size': (4, 4)}, 'bedroom': {'id': 2, 'type': <RoomType.BEDROOM: 'bedroom'>, 'position': (6, 7), 'size': (3, 3)}, 'entry': {'id': 3, 'type': <RoomType.ENTRY: 'entry'>, 'position': (3, 2), 'size': (2, 2)}, 'corridor': {'id': 4, 'type': <RoomType.CORRIDOR: 'corridor'>, 'position': (2, 1), 'size': (1, 3)}}2',\n",
       "       '[[0 0 0 0 0 0 0 0 0 0]\\n [0 0 0 0 0 0 0 0 0 0]\\n [0 0 0 0 0 0 1 1 1 1]\\n [0 0 0 0 0 0 1 1 1 1]\\n [0 0 0 0 0 0 1 1 1 1]\\n [0 0 0 0 0 0 1 1 1 1]\\n [0 0 0 0 0 0 0 2 2 2]\\n [0 0 0 0 0 0 0 2 2 2]\\n [0 0 0 0 0 0 0 2 2 2]\\n [0 0 0 0 0 0 0 0 0 0]]{'living': {'id': 1, 'type': <RoomType.LIVING: 'living'>, 'position': (2, 6), 'size': (4, 4)}, 'bedroom': {'id': 2, 'type': <RoomType.BEDROOM: 'bedroom'>, 'position': (6, 7), 'size': (3, 3)}, 'entry': {'id': 3, 'type': <RoomType.ENTRY: 'entry'>, 'position': (3, 2), 'size': (2, 2)}, 'corridor': {'id': 4, 'type': <RoomType.CORRIDOR: 'corridor'>, 'position': (2, 1), 'size': (1, 3)}}3',\n",
       "       '[[0 0 0 0 0 0 0 0 0 0]\\n [0 0 0 0 0 0 0 0 0 0]\\n [0 0 0 0 0 0 1 1 1 1]\\n [0 0 0 0 0 0 1 1 1 1]\\n [0 0 0 0 0 0 1 1 1 1]\\n [0 0 0 0 0 0 1 1 1 1]\\n [0 0 0 0 0 0 0 2 2 2]\\n [0 0 0 0 0 0 0 2 2 2]\\n [0 0 0 0 0 0 0 2 2 2]\\n [0 0 0 0 0 0 0 0 0 0]]{'living': {'id': 1, 'type': <RoomType.LIVING: 'living'>, 'position': (2, 6), 'size': (4, 4)}, 'bedroom': {'id': 2, 'type': <RoomType.BEDROOM: 'bedroom'>, 'position': (6, 7), 'size': (3, 3)}, 'entry': {'id': 3, 'type': <RoomType.ENTRY: 'entry'>, 'position': (3, 2), 'size': (2, 2)}, 'corridor': {'id': 4, 'type': <RoomType.CORRIDOR: 'corridor'>, 'position': (2, 1), 'size': (1, 3)}}4',\n",
       "       '[[0 0 0 0 0 0 0 0 0 0]\\n [0 0 0 0 0 0 0 0 0 0]\\n [0 0 0 0 0 0 1 1 1 1]\\n [0 0 0 0 0 0 1 1 1 1]\\n [0 0 0 0 0 0 1 1 1 1]\\n [0 0 0 0 0 0 1 1 1 1]\\n [0 0 0 0 0 0 0 2 2 2]\\n [0 0 0 0 0 0 0 2 2 2]\\n [0 0 0 0 0 0 0 2 2 2]\\n [0 0 0 0 0 0 0 0 0 0]]{'living': {'id': 1, 'type': <RoomType.LIVING: 'living'>, 'position': (2, 6), 'size': (4, 4)}, 'bedroom': {'id': 2, 'type': <RoomType.BEDROOM: 'bedroom'>, 'position': (6, 7), 'size': (3, 3)}, 'entry': {'id': 3, 'type': <RoomType.ENTRY: 'entry'>, 'position': (3, 2), 'size': (2, 2)}, 'corridor': {'id': 4, 'type': <RoomType.CORRIDOR: 'corridor'>, 'position': (2, 1), 'size': (1, 3)}}5',\n",
       "       '[[0 0 0 0 0 0 0 0 0 0]\\n [0 0 0 0 0 0 0 0 0 0]\\n [0 0 0 0 0 0 1 1 1 1]\\n [0 0 3 3 0 0 1 1 1 1]\\n [0 0 3 3 0 0 1 1 1 1]\\n [0 0 0 0 0 0 1 1 1 1]\\n [0 0 0 0 0 0 0 2 2 2]\\n [0 0 0 0 0 0 0 2 2 2]\\n [0 0 0 0 0 0 0 2 2 2]\\n [0 0 0 0 0 0 0 0 0 0]]{'living': {'id': 1, 'type': <RoomType.LIVING: 'living'>, 'position': (2, 6), 'size': (4, 4)}, 'bedroom': {'id': 2, 'type': <RoomType.BEDROOM: 'bedroom'>, 'position': (6, 7), 'size': (3, 3)}, 'entry': {'id': 3, 'type': <RoomType.ENTRY: 'entry'>, 'position': (3, 2), 'size': (2, 2)}, 'corridor': {'id': 4, 'type': <RoomType.CORRIDOR: 'corridor'>, 'position': (2, 1), 'size': (1, 3)}}6',\n",
       "       '[[0 0 0 0 0 0 0 0 0 0]\\n [0 0 0 0 0 0 0 0 0 0]\\n [0 4 4 4 0 0 1 1 1 1]\\n [0 0 3 3 0 0 1 1 1 1]\\n [0 0 3 3 0 0 1 1 1 1]\\n [0 0 0 0 0 0 1 1 1 1]\\n [0 0 0 0 0 0 0 2 2 2]\\n [0 0 0 0 0 0 0 2 2 2]\\n [0 0 0 0 0 0 0 2 2 2]\\n [0 0 0 0 0 0 0 0 0 0]]{'living': {'id': 1, 'type': <RoomType.LIVING: 'living'>, 'position': (2, 6), 'size': (4, 4)}, 'bedroom': {'id': 2, 'type': <RoomType.BEDROOM: 'bedroom'>, 'position': (6, 7), 'size': (3, 3)}, 'entry': {'id': 3, 'type': <RoomType.ENTRY: 'entry'>, 'position': (3, 2), 'size': (2, 2)}, 'corridor': {'id': 4, 'type': <RoomType.CORRIDOR: 'corridor'>, 'position': (2, 1), 'size': (1, 3)}}7',\n",
       "       '[[0 0 0 0 0 0 0 0 0 0]\\n [0 0 0 0 0 0 0 0 0 0]\\n [0 0 0 0 0 0 1 1 1 1]\\n [0 0 0 0 0 0 1 1 1 1]\\n [0 0 0 0 0 0 1 1 1 1]\\n [0 0 0 0 0 0 1 1 1 1]\\n [0 0 0 0 0 0 0 0 0 0]\\n [0 0 0 0 0 0 0 0 0 0]\\n [0 0 0 0 0 0 0 0 0 0]\\n [0 0 0 0 0 0 0 0 0 0]]{'bedroom': {'id': 2, 'type': <RoomType.BEDROOM: 'bedroom'>, 'position': (6, 7), 'size': (3, 3)}, 'entry': {'id': 3, 'type': <RoomType.ENTRY: 'entry'>, 'position': (3, 2), 'size': (2, 2)}, 'corridor': {'id': 4, 'type': <RoomType.CORRIDOR: 'corridor'>, 'position': (2, 1), 'size': (1, 3)}, 'living': {'id': 5, 'type': <RoomType.LIVING: 'living'>, 'position': (6, 4), 'size': (4, 6)}}1',\n",
       "       '[[0 0 0 0 0 0 0 0 0 0]\\n [0 0 0 0 0 0 0 0 0 0]\\n [0 0 0 0 0 0 1 1 1 1]\\n [0 0 0 0 0 0 1 1 1 1]\\n [0 0 0 0 0 0 1 1 1 1]\\n [0 0 0 0 0 0 1 1 1 1]\\n [0 0 0 0 0 0 0 2 2 2]\\n [0 0 0 0 0 0 0 2 2 2]\\n [0 0 0 0 0 0 0 2 2 2]\\n [0 0 0 0 0 0 0 0 0 0]]{'bedroom': {'id': 2, 'type': <RoomType.BEDROOM: 'bedroom'>, 'position': (6, 7), 'size': (3, 3)}, 'entry': {'id': 3, 'type': <RoomType.ENTRY: 'entry'>, 'position': (3, 2), 'size': (2, 2)}, 'corridor': {'id': 4, 'type': <RoomType.CORRIDOR: 'corridor'>, 'position': (2, 1), 'size': (1, 3)}, 'living': {'id': 5, 'type': <RoomType.LIVING: 'living'>, 'position': (6, 4), 'size': (4, 6)}}2',\n",
       "       '[[0 0 0 0 0 0 0 0 0 0]\\n [0 0 0 0 0 0 0 0 0 0]\\n [0 0 0 0 0 0 1 1 1 1]\\n [0 0 0 0 0 0 1 1 1 1]\\n [0 0 0 0 0 0 1 1 1 1]\\n [0 0 0 0 0 0 1 1 1 1]\\n [0 0 0 0 0 0 0 2 2 2]\\n [0 0 0 0 0 0 0 2 2 2]\\n [0 0 0 0 0 0 0 2 2 2]\\n [0 0 0 0 0 0 0 0 0 0]]{'bedroom': {'id': 2, 'type': <RoomType.BEDROOM: 'bedroom'>, 'position': (6, 7), 'size': (3, 3)}, 'entry': {'id': 3, 'type': <RoomType.ENTRY: 'entry'>, 'position': (3, 2), 'size': (2, 2)}, 'corridor': {'id': 4, 'type': <RoomType.CORRIDOR: 'corridor'>, 'position': (2, 1), 'size': (1, 3)}, 'living': {'id': 5, 'type': <RoomType.LIVING: 'living'>, 'position': (6, 4), 'size': (4, 6)}}3',\n",
       "       ...\n",
       "       '[[4 4 4 4 0 0 0 0 0 0]\\n [4 4 4 4 0 0 0 0 0 0]\\n [4 4 4 4 0 0 1 1 1 1]\\n [4 4 4 4 0 0 1 1 1 1]\\n [5 5 5 5 0 0 1 1 1 1]\\n [5 5 5 5 0 0 1 1 1 1]\\n [5 5 5 5 5 5 5 5 5 0]\\n [5 5 5 5 5 5 5 5 5 0]\\n [0 0 0 0 5 5 5 5 5 0]\\n [0 0 0 0 5 5 5 5 5 0]]{'bedroom': {'id': 2, 'type': <RoomType.BEDROOM: 'bedroom'>, 'position': (6, 7), 'size': (3, 3)}, 'entry': {'id': 3, 'type': <RoomType.ENTRY: 'entry'>, 'position': (3, 2), 'size': (2, 2)}, 'corridor': {'id': 4, 'type': <RoomType.CORRIDOR: 'corridor'>, 'position': (2, 1), 'size': (1, 3)}, 'living': {'id': 4, 'type': <RoomType.LIVING: 'living'>, 'position': (4, 4), 'size': (6, 6)}}78',\n",
       "       '[[4 4 4 4 0 0 0 0 0 0]\\n [4 4 4 4 0 0 0 0 0 0]\\n [4 4 4 4 0 0 1 1 1 1]\\n [4 4 4 4 0 0 1 1 1 1]\\n [5 5 5 5 0 0 1 1 1 1]\\n [5 5 5 5 0 0 1 1 1 1]\\n [5 5 5 5 5 5 5 5 5 0]\\n [5 5 5 5 5 5 5 5 5 0]\\n [0 0 0 0 5 5 5 5 5 0]\\n [0 0 0 0 5 5 5 5 5 0]]{'bedroom': {'id': 2, 'type': <RoomType.BEDROOM: 'bedroom'>, 'position': (6, 7), 'size': (3, 3)}, 'entry': {'id': 3, 'type': <RoomType.ENTRY: 'entry'>, 'position': (3, 2), 'size': (2, 2)}, 'corridor': {'id': 4, 'type': <RoomType.CORRIDOR: 'corridor'>, 'position': (2, 1), 'size': (1, 3)}, 'living': {'id': 4, 'type': <RoomType.LIVING: 'living'>, 'position': (4, 4), 'size': (6, 6)}}79',\n",
       "       '[[4 4 4 4 0 0 0 0 0 0]\\n [4 4 4 4 0 0 0 0 0 0]\\n [4 4 4 4 0 0 1 1 1 1]\\n [4 4 4 4 0 0 1 1 1 1]\\n [5 5 5 5 0 0 1 1 1 1]\\n [5 5 5 5 0 0 1 1 1 1]\\n [5 5 5 5 5 5 5 5 5 0]\\n [5 5 5 5 5 5 5 5 5 0]\\n [0 0 0 0 5 5 5 5 5 0]\\n [0 0 0 0 5 5 5 5 5 0]]{'bedroom': {'id': 2, 'type': <RoomType.BEDROOM: 'bedroom'>, 'position': (6, 7), 'size': (3, 3)}, 'entry': {'id': 3, 'type': <RoomType.ENTRY: 'entry'>, 'position': (3, 2), 'size': (2, 2)}, 'corridor': {'id': 4, 'type': <RoomType.CORRIDOR: 'corridor'>, 'position': (2, 1), 'size': (1, 3)}, 'living': {'id': 4, 'type': <RoomType.LIVING: 'living'>, 'position': (4, 4), 'size': (6, 6)}}80',\n",
       "       '[[4 4 4 4 0 0 0 0 0 0]\\n [4 4 4 4 0 0 0 0 0 0]\\n [4 4 4 4 0 0 1 1 1 1]\\n [4 4 4 4 0 0 1 1 1 1]\\n [5 5 5 5 0 0 1 1 1 1]\\n [5 5 5 5 0 0 1 1 1 1]\\n [5 5 5 5 5 5 5 5 5 0]\\n [5 5 5 5 5 5 5 5 5 0]\\n [0 0 0 0 5 5 5 5 5 0]\\n [0 0 0 0 5 5 5 5 5 0]]{'bedroom': {'id': 2, 'type': <RoomType.BEDROOM: 'bedroom'>, 'position': (6, 7), 'size': (3, 3)}, 'entry': {'id': 3, 'type': <RoomType.ENTRY: 'entry'>, 'position': (3, 2), 'size': (2, 2)}, 'corridor': {'id': 4, 'type': <RoomType.CORRIDOR: 'corridor'>, 'position': (2, 1), 'size': (1, 3)}, 'living': {'id': 4, 'type': <RoomType.LIVING: 'living'>, 'position': (4, 4), 'size': (6, 6)}}81',\n",
       "       '[[4 4 4 4 0 0 0 0 0 0]\\n [4 4 4 4 0 0 0 0 0 0]\\n [4 4 4 4 0 0 1 1 1 1]\\n [4 4 4 4 0 0 1 1 1 1]\\n [5 5 5 5 0 0 1 1 1 1]\\n [5 5 5 5 0 0 1 1 1 1]\\n [5 5 5 5 5 5 5 5 5 0]\\n [5 5 5 5 5 5 5 5 5 0]\\n [0 0 0 0 5 5 5 5 5 0]\\n [0 0 0 0 5 5 5 5 5 0]]{'bedroom': {'id': 2, 'type': <RoomType.BEDROOM: 'bedroom'>, 'position': (6, 7), 'size': (3, 3)}, 'entry': {'id': 3, 'type': <RoomType.ENTRY: 'entry'>, 'position': (3, 2), 'size': (2, 2)}, 'corridor': {'id': 4, 'type': <RoomType.CORRIDOR: 'corridor'>, 'position': (2, 1), 'size': (1, 3)}, 'living': {'id': 4, 'type': <RoomType.LIVING: 'living'>, 'position': (4, 4), 'size': (6, 6)}}82',\n",
       "       '[[4 4 4 4 0 0 0 0 0 0]\\n [4 4 4 4 0 0 0 0 0 0]\\n [4 4 4 4 0 0 1 1 1 1]\\n [4 4 4 4 0 0 1 1 1 1]\\n [5 5 5 5 0 0 1 1 1 1]\\n [5 5 5 5 0 0 1 1 1 1]\\n [5 5 5 5 5 5 5 5 5 0]\\n [5 5 5 5 5 5 5 5 5 0]\\n [0 0 0 0 5 5 5 5 5 0]\\n [0 0 0 0 5 5 5 5 5 0]]{'bedroom': {'id': 2, 'type': <RoomType.BEDROOM: 'bedroom'>, 'position': (6, 7), 'size': (3, 3)}, 'entry': {'id': 3, 'type': <RoomType.ENTRY: 'entry'>, 'position': (3, 2), 'size': (2, 2)}, 'corridor': {'id': 4, 'type': <RoomType.CORRIDOR: 'corridor'>, 'position': (2, 1), 'size': (1, 3)}, 'living': {'id': 4, 'type': <RoomType.LIVING: 'living'>, 'position': (4, 4), 'size': (6, 6)}}83',\n",
       "       '[[4 4 4 4 0 0 0 0 0 0]\\n [4 4 4 4 0 0 0 0 0 0]\\n [4 4 4 4 0 0 1 1 1 1]\\n [4 4 4 4 0 0 1 1 1 1]\\n [5 5 5 5 0 0 1 1 1 1]\\n [5 5 5 5 0 0 1 1 1 1]\\n [5 5 5 5 5 5 5 5 5 0]\\n [5 5 5 5 5 5 5 5 5 0]\\n [0 0 0 0 5 5 5 5 5 0]\\n [0 0 0 0 5 5 5 5 5 0]]{'bedroom': {'id': 2, 'type': <RoomType.BEDROOM: 'bedroom'>, 'position': (6, 7), 'size': (3, 3)}, 'entry': {'id': 3, 'type': <RoomType.ENTRY: 'entry'>, 'position': (3, 2), 'size': (2, 2)}, 'corridor': {'id': 4, 'type': <RoomType.CORRIDOR: 'corridor'>, 'position': (2, 1), 'size': (1, 3)}, 'living': {'id': 4, 'type': <RoomType.LIVING: 'living'>, 'position': (4, 4), 'size': (6, 6)}}84',\n",
       "       '[[4 4 4 4 0 0 0 0 0 0]\\n [4 4 4 4 0 0 0 0 0 0]\\n [4 4 4 4 0 0 1 1 1 1]\\n [4 4 4 4 0 0 1 1 1 1]\\n [5 5 5 5 0 0 1 1 1 1]\\n [5 5 5 5 0 0 1 1 1 1]\\n [5 5 5 5 5 5 5 5 5 0]\\n [5 5 5 5 5 5 5 5 5 0]\\n [0 0 0 0 5 5 5 5 5 0]\\n [0 0 0 0 5 5 5 5 5 0]]{'bedroom': {'id': 2, 'type': <RoomType.BEDROOM: 'bedroom'>, 'position': (6, 7), 'size': (3, 3)}, 'entry': {'id': 3, 'type': <RoomType.ENTRY: 'entry'>, 'position': (3, 2), 'size': (2, 2)}, 'corridor': {'id': 4, 'type': <RoomType.CORRIDOR: 'corridor'>, 'position': (2, 1), 'size': (1, 3)}, 'living': {'id': 4, 'type': <RoomType.LIVING: 'living'>, 'position': (4, 4), 'size': (6, 6)}}85',\n",
       "       '[[4 4 4 4 0 0 0 0 0 0]\\n [4 4 4 4 0 0 0 0 0 0]\\n [4 4 4 4 0 0 1 1 1 1]\\n [4 4 4 4 0 0 1 1 1 1]\\n [5 5 5 5 0 0 1 1 1 1]\\n [5 5 5 5 0 0 1 1 1 1]\\n [5 5 5 5 5 5 5 5 5 0]\\n [5 5 5 5 5 5 5 5 5 0]\\n [0 0 0 0 5 5 5 5 5 0]\\n [0 0 0 0 5 5 5 5 5 0]]{'bedroom': {'id': 2, 'type': <RoomType.BEDROOM: 'bedroom'>, 'position': (6, 7), 'size': (3, 3)}, 'entry': {'id': 3, 'type': <RoomType.ENTRY: 'entry'>, 'position': (3, 2), 'size': (2, 2)}, 'corridor': {'id': 4, 'type': <RoomType.CORRIDOR: 'corridor'>, 'position': (2, 1), 'size': (1, 3)}, 'living': {'id': 4, 'type': <RoomType.LIVING: 'living'>, 'position': (4, 4), 'size': (6, 6)}}86',\n",
       "       '[[4 4 4 4 0 0 0 0 0 0]\\n [4 4 4 4 0 0 0 0 0 0]\\n [4 4 4 4 0 0 1 1 1 1]\\n [4 4 4 4 0 0 1 1 1 1]\\n [5 5 5 5 0 0 1 1 1 1]\\n [5 5 5 5 0 0 1 1 1 1]\\n [5 5 5 5 5 5 5 5 5 0]\\n [5 5 5 5 5 5 5 5 5 0]\\n [0 0 0 0 5 5 5 5 5 0]\\n [0 0 0 0 5 5 5 5 5 0]]{'bedroom': {'id': 2, 'type': <RoomType.BEDROOM: 'bedroom'>, 'position': (6, 7), 'size': (3, 3)}, 'entry': {'id': 3, 'type': <RoomType.ENTRY: 'entry'>, 'position': (3, 2), 'size': (2, 2)}, 'corridor': {'id': 4, 'type': <RoomType.CORRIDOR: 'corridor'>, 'position': (2, 1), 'size': (1, 3)}, 'living': {'id': 4, 'type': <RoomType.LIVING: 'living'>, 'position': (4, 4), 'size': (6, 6)}}87'],\n",
       "      dtype='object', length=200)"
      ]
     },
     "execution_count": 84,
     "metadata": {},
     "output_type": "execute_result"
    }
   ],
   "source": [
    "value_df.index"
   ]
  },
  {
   "cell_type": "code",
   "execution_count": 83,
   "metadata": {},
   "outputs": [
    {
     "data": {
      "text/plain": [
       "{'type': 'add_room',\n",
       " 'params': {'name': 'living',\n",
       "  'room_type': <RoomType.LIVING: 'living'>,\n",
       "  'position': (0, 0),\n",
       "  'size': (4, 4)}}"
      ]
     },
     "execution_count": 83,
     "metadata": {},
     "output_type": "execute_result"
    }
   ],
   "source": [
    "value_df.iloc[np.where(value_df.value == value_df.value.max())[0][0]].action"
   ]
  }
 ],
 "metadata": {
  "kernelspec": {
   "display_name": "base",
   "language": "python",
   "name": "python3"
  },
  "language_info": {
   "codemirror_mode": {
    "name": "ipython",
    "version": 3
   },
   "file_extension": ".py",
   "mimetype": "text/x-python",
   "name": "python",
   "nbconvert_exporter": "python",
   "pygments_lexer": "ipython3",
   "version": "3.12.4"
  }
 },
 "nbformat": 4,
 "nbformat_minor": 2
}
