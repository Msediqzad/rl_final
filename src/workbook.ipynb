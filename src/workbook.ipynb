{
 "cells": [
  {
   "cell_type": "code",
   "execution_count": 5,
   "metadata": {},
   "outputs": [
    {
     "ename": "ModuleNotFoundError",
     "evalue": "No module named 'torch'",
     "output_type": "error",
     "traceback": [
      "\u001b[1;31m---------------------------------------------------------------------------\u001b[0m",
      "\u001b[1;31mModuleNotFoundError\u001b[0m                       Traceback (most recent call last)",
      "Cell \u001b[1;32mIn[5], line 2\u001b[0m\n\u001b[0;32m      1\u001b[0m \u001b[38;5;28;01mfrom\u001b[39;00m \u001b[38;5;21;01marchitectural_principles\u001b[39;00m \u001b[38;5;28;01mimport\u001b[39;00m ArchitecturalConstraints\n\u001b[1;32m----> 2\u001b[0m \u001b[38;5;28;01mfrom\u001b[39;00m \u001b[38;5;21;01mtrain\u001b[39;00m \u001b[38;5;28;01mimport\u001b[39;00m ExperimentManager\n",
      "File \u001b[1;32mg:\\My Drive\\Harvard Coursework\\CS1840\\Project\\rl_final\\src\\train.py:4\u001b[0m\n\u001b[0;32m      2\u001b[0m \u001b[38;5;28;01mimport\u001b[39;00m \u001b[38;5;21;01mmatplotlib\u001b[39;00m\u001b[38;5;21;01m.\u001b[39;00m\u001b[38;5;21;01mpyplot\u001b[39;00m \u001b[38;5;28;01mas\u001b[39;00m \u001b[38;5;21;01mplt\u001b[39;00m\n\u001b[0;32m      3\u001b[0m \u001b[38;5;28;01mfrom\u001b[39;00m \u001b[38;5;21;01menvironment\u001b[39;00m \u001b[38;5;28;01mimport\u001b[39;00m ArchitecturalEnvironment\n\u001b[1;32m----> 4\u001b[0m \u001b[38;5;28;01mfrom\u001b[39;00m \u001b[38;5;21;01magent\u001b[39;00m \u001b[38;5;28;01mimport\u001b[39;00m ValueIterationAgent, PolicyIterationAgent, DeepRLAgent\n\u001b[0;32m      5\u001b[0m \u001b[38;5;28;01mfrom\u001b[39;00m \u001b[38;5;21;01marchitectural_principles\u001b[39;00m \u001b[38;5;28;01mimport\u001b[39;00m ArchitecturalConstraints\n\u001b[0;32m      6\u001b[0m \u001b[38;5;66;03m# import torch\u001b[39;00m\n",
      "File \u001b[1;32mg:\\My Drive\\Harvard Coursework\\CS1840\\Project\\rl_final\\src\\agent.py:4\u001b[0m\n\u001b[0;32m      2\u001b[0m \u001b[38;5;28;01mfrom\u001b[39;00m \u001b[38;5;21;01mdataclasses\u001b[39;00m \u001b[38;5;28;01mimport\u001b[39;00m dataclass\n\u001b[0;32m      3\u001b[0m \u001b[38;5;28;01mfrom\u001b[39;00m \u001b[38;5;21;01mtyping\u001b[39;00m \u001b[38;5;28;01mimport\u001b[39;00m Tuple, Any\n\u001b[1;32m----> 4\u001b[0m \u001b[38;5;28;01mimport\u001b[39;00m \u001b[38;5;21;01mtorch\u001b[39;00m\n\u001b[0;32m      5\u001b[0m \u001b[38;5;28;01mimport\u001b[39;00m \u001b[38;5;21;01mtorch\u001b[39;00m\u001b[38;5;21;01m.\u001b[39;00m\u001b[38;5;21;01mnn\u001b[39;00m \u001b[38;5;28;01mas\u001b[39;00m \u001b[38;5;21;01mnn\u001b[39;00m\n\u001b[0;32m      6\u001b[0m \u001b[38;5;28;01mimport\u001b[39;00m \u001b[38;5;21;01mtorch\u001b[39;00m\u001b[38;5;21;01m.\u001b[39;00m\u001b[38;5;21;01moptim\u001b[39;00m \u001b[38;5;28;01mas\u001b[39;00m \u001b[38;5;21;01moptim\u001b[39;00m\n",
      "\u001b[1;31mModuleNotFoundError\u001b[0m: No module named 'torch'"
     ]
    }
   ],
   "source": [
    "from architectural_principles import ArchitecturalConstraints\n",
    "from train import ExperimentManager"
   ]
  },
  {
   "cell_type": "code",
   "execution_count": 2,
   "metadata": {},
   "outputs": [
    {
     "data": {
      "text/plain": [
       "{'living': RoomRequirements(room_type=<RoomType.LIVING: 'living'>, min_size=(4, 4), max_size=(6, 6), privacy_level=<PrivacyLevel.PUBLIC: 1>, needs_natural_light=True, needs_ventilation=False, adjacent_to={<RoomType.ENTRY: 'entry'>, <RoomType.DINING: 'dining'>}, min_distance_from=None),\n",
       " 'bedroom': RoomRequirements(room_type=<RoomType.BEDROOM: 'bedroom'>, min_size=(3, 3), max_size=(4, 4), privacy_level=<PrivacyLevel.PRIVATE: 3>, needs_natural_light=True, needs_ventilation=False, adjacent_to=None, min_distance_from={<RoomType.ENTRY: 'entry'>, <RoomType.LIVING: 'living'>}),\n",
       " 'kitchen': RoomRequirements(room_type=<RoomType.KITCHEN: 'kitchen'>, min_size=(3, 3), max_size=(4, 4), privacy_level=<PrivacyLevel.SEMI: 2>, needs_natural_light=False, needs_ventilation=True, adjacent_to={<RoomType.DINING: 'dining'>}, min_distance_from=None),\n",
       " 'dining': RoomRequirements(room_type=<RoomType.DINING: 'dining'>, min_size=(3, 3), max_size=(4, 5), privacy_level=<PrivacyLevel.PUBLIC: 1>, needs_natural_light=True, needs_ventilation=False, adjacent_to={<RoomType.KITCHEN: 'kitchen'>, <RoomType.LIVING: 'living'>}, min_distance_from=None),\n",
       " 'bathroom': RoomRequirements(room_type=<RoomType.BATHROOM: 'bathroom'>, min_size=(2, 2), max_size=(3, 3), privacy_level=<PrivacyLevel.PRIVATE: 3>, needs_natural_light=False, needs_ventilation=True, adjacent_to=None, min_distance_from={<RoomType.KITCHEN: 'kitchen'>, <RoomType.DINING: 'dining'>}),\n",
       " 'entry': RoomRequirements(room_type=<RoomType.ENTRY: 'entry'>, min_size=(2, 2), max_size=(3, 3), privacy_level=<PrivacyLevel.PUBLIC: 1>, needs_natural_light=False, needs_ventilation=False, adjacent_to={<RoomType.LIVING: 'living'>}, min_distance_from=None),\n",
       " 'corridor': RoomRequirements(room_type=<RoomType.CORRIDOR: 'corridor'>, min_size=(1, 3), max_size=(2, 6), privacy_level=<PrivacyLevel.SEMI: 2>, needs_natural_light=False, needs_ventilation=False, adjacent_to=None, min_distance_from=None)}"
      ]
     },
     "execution_count": 2,
     "metadata": {},
     "output_type": "execute_result"
    }
   ],
   "source": [
    "ArchitecturalConstraints.default_rooms()"
   ]
  },
  {
   "cell_type": "code",
   "execution_count": null,
   "metadata": {},
   "outputs": [],
   "source": []
  }
 ],
 "metadata": {
  "kernelspec": {
   "display_name": "Python 3",
   "language": "python",
   "name": "python3"
  },
  "language_info": {
   "codemirror_mode": {
    "name": "ipython",
    "version": 3
   },
   "file_extension": ".py",
   "mimetype": "text/x-python",
   "name": "python",
   "nbconvert_exporter": "python",
   "pygments_lexer": "ipython3",
   "version": "3.11.9"
  }
 },
 "nbformat": 4,
 "nbformat_minor": 2
}
